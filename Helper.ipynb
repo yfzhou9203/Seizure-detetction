{
 "cells": [
  {
   "cell_type": "code",
   "execution_count": 1,
   "metadata": {},
   "outputs": [],
   "source": [
    "import os \n",
    "import time\n",
    "import random\n",
    "import mne\n",
    "import pyedflib\n",
    "import save_edf\n",
    "from save_edf import *\n",
    "import numpy as np\n",
    "import copy\n",
    "from tkinter import *\n",
    "from tkinter import filedialog"
   ]
  },
  {
   "cell_type": "markdown",
   "metadata": {},
   "source": [
    "## Load the file and split them into several sub files"
   ]
  },
  {
   "cell_type": "code",
   "execution_count": 11,
   "metadata": {},
   "outputs": [
    {
     "name": "stdout",
     "output_type": "stream",
     "text": [
      "Extracting EDF parameters from C:\\Users\\Yufeng Zhou\\Downloads\\HFOdetection\\EDF files\\KAHIP15_week01_SW_cleaned.edf...\n",
      "EDF file detected\n",
      "Setting channel info structure...\n",
      "Creating raw.info structure...\n"
     ]
    }
   ],
   "source": [
    "filename=filedialog.askopenfilename()\n",
    "raw=mne.io.read_raw_edf(filename,preload=False)"
   ]
  },
  {
   "cell_type": "markdown",
   "metadata": {},
   "source": [
    "## Split and save the file"
   ]
  },
  {
   "cell_type": "code",
   "execution_count": 12,
   "metadata": {},
   "outputs": [
    {
     "name": "stdout",
     "output_type": "stream",
     "text": [
      "The number of channels is: 16\n",
      "The sampling rate is: 3000.0Hz\n",
      "The shape of length is: (1803000,)\n"
     ]
    }
   ],
   "source": [
    "ch_names=raw.info['ch_names']\n",
    "print('The number of channels is: '+str(len(ch_names)))\n",
    "fs=raw.info['sfreq']\n",
    "print('The sampling rate is: '+str(fs)+'Hz')\n",
    "\n",
    "t_start=time.time()\n",
    "t=raw[ch_names[0]][1]\n",
    "print('The shape of length is: '+str(t.shape))\n",
    "\n",
    "n_clip=np.floor(t.shape[0]/fs/3600)"
   ]
  },
  {
   "cell_type": "code",
   "execution_count": 34,
   "metadata": {},
   "outputs": [
    {
     "name": "stdout",
     "output_type": "stream",
     "text": [
      "FA00110W6_0.edf\n",
      "FA00110W6_1.edf\n",
      "FA00110W6_2.edf\n",
      "FA00110W6_3.edf\n",
      "FA00110W6_4.edf\n",
      "FA00110W6_5.edf\n",
      "The whole processing time is: 3381.374\n"
     ]
    }
   ],
   "source": [
    "len_clip=int(np.floor(t.shape[0]/n_clip/fs))\n",
    "fpath='C:/Users/Yufeng Zhou/Desktop/EEG_data/Patient6'\n",
    "for i in range(n_clip):\n",
    "    fname='FA00110W6_'+str(i)+'.edf'\n",
    "    print(fname)\n",
    "    write_mne_edf(raw,os.path.join(fpath,fname),picks=None,tmin=len_clip*i,tmax=len_clip*(i+1),overwrite=True)\n",
    "\n",
    "t_end=time.time()\n",
    "print('The whole processing time is: '+str(np.round(t_end-t_start,3)))"
   ]
  },
  {
   "cell_type": "code",
   "execution_count": null,
   "metadata": {},
   "outputs": [],
   "source": []
  }
 ],
 "metadata": {
  "kernelspec": {
   "display_name": "Python 3",
   "language": "python",
   "name": "python3"
  },
  "language_info": {
   "codemirror_mode": {
    "name": "ipython",
    "version": 3
   },
   "file_extension": ".py",
   "mimetype": "text/x-python",
   "name": "python",
   "nbconvert_exporter": "python",
   "pygments_lexer": "ipython3",
   "version": "3.7.4"
  }
 },
 "nbformat": 4,
 "nbformat_minor": 2
}
